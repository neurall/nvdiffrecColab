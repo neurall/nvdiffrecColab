{
  "nbformat": 4,
  "nbformat_minor": 0,
  "metadata": {
    "colab": {
      "name": "nvdiffrec.ipynb",
      "provenance": [],
      "collapsed_sections": [],
      "authorship_tag": "ABX9TyOjJUeYbHN0jOe25G3JnBl7",
      "include_colab_link": true
    },
    "kernelspec": {
      "name": "python3",
      "display_name": "Python 3"
    },
    "language_info": {
      "name": "python"
    },
    "accelerator": "GPU"
  },
  "cells": [
    {
      "cell_type": "markdown",
      "metadata": {
        "id": "view-in-github",
        "colab_type": "text"
      },
      "source": [
        "<a href=\"https://colab.research.google.com/github/neurall/nvdiffrecColab/blob/main/nvdiffrec.ipynb\" target=\"_parent\"><img src=\"https://colab.research.google.com/assets/colab-badge.svg\" alt=\"Open In Colab\"/></a>"
      ]
    },
    {
      "cell_type": "markdown",
      "source": [
        "nvdiffrec Colab version for those without gpu or on the move\n",
        "My Colab version of exciting new nvdiffrec from Nvidia https://github.com/NVlabs/nvdiffrec\n",
        "\n",
        "![](https://camo.githubusercontent.com/1293ac358829e2e0109022f831a1be40c4349ba813aeaa32f64952d668a981aa/68747470733a2f2f6e766c6162732e6769746875622e696f2f6e76646966667265632f6173736574732f73797374656d2e4a5047)\n",
        "\n",
        "This Colab sadly curently produces output only from included sample demo dataset with required alpha masks.\n",
        "\n",
        "As for how to create your own Dataset/Images . Best Info so far seems to be in this thread \n",
        "\n",
        "https://github.com/NVlabs/nvdiffrec/issues/3"
      ],
      "metadata": {
        "id": "PAYv_a5RDhmF"
      }
    },
    {
      "cell_type": "code",
      "execution_count": null,
      "metadata": {
        "id": "1Id6rH9noK0T"
      },
      "outputs": [],
      "source": [
        "!pip install ninja   glfw xatlas  \n",
        "!pip install git+https://github.com/NVlabs/nvdiffrast/\n",
        "!pip install --global-option=\"--no-networks\" git+https://github.com/NVlabs/tiny-cuda-nn/#subdirectory=bindings/torch\n",
        "!imageio_download_bin freeimage"
      ]
    },
    {
      "cell_type": "code",
      "source": [
        "!git clone https://github.com/NVlabs/nvdiffrec.git\n"
      ],
      "metadata": {
        "id": "UeU-nEZWqEDy"
      },
      "execution_count": null,
      "outputs": []
    },
    {
      "cell_type": "code",
      "source": [
        "%cd nvdiffrec\n",
        "!python train.py --config configs/bob.json"
      ],
      "metadata": {
        "id": "rafePkzYqY5U"
      },
      "execution_count": null,
      "outputs": []
    },
    {
      "cell_type": "code",
      "source": [
        "!zip -r out.zip out"
      ],
      "metadata": {
        "id": "zaspMc13yIUf"
      },
      "execution_count": null,
      "outputs": []
    }
  ]
}